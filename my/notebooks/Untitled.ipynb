{
 "cells": [
  {
   "cell_type": "code",
   "execution_count": 2,
   "id": "9145925a-edad-465e-ac78-3404c48c18dd",
   "metadata": {},
   "outputs": [],
   "source": [
    "from manim import *"
   ]
  },
  {
   "cell_type": "code",
   "execution_count": 3,
   "id": "b6b5e2cf-fb05-4091-ac1d-62c9e80a6cbc",
   "metadata": {},
   "outputs": [
    {
     "name": "stderr",
     "output_type": "stream",
     "text": [
      "                                                                                                                                                                                                                                            \r"
     ]
    },
    {
     "data": {
      "text/html": [
       "<video src=\"media/jupyter/DefaultTemplate@2022-09-05@17-50-57.mp4\" controls autoplay loop style=\"max-width: 60%;\"  >\n",
       "      Your browser does not support the <code>video</code> element.\n",
       "    </video>"
      ],
      "text/plain": [
       "<IPython.core.display.Video object>"
      ]
     },
     "metadata": {},
     "output_type": "display_data"
    }
   ],
   "source": [
    "%%manim -qm -v WARNING DefaultTemplate\n",
    "\n",
    "class DefaultTemplate(Scene):\n",
    "    def construct(self):\n",
    "        circle = Circle()  # create a circle\n",
    "        circle.set_fill(PINK, opacity=0.5)  # set color and transparency\n",
    "\n",
    "        square = Square()  # create a square\n",
    "        square.flip(RIGHT)  # flip horizontally\n",
    "        square.rotate(-3 * TAU / 8)  # rotate a certain amount\n",
    "\n",
    "        self.play(Create(square))  # animate the creation of the square\n",
    "        self.play(Transform(square, circle))  # interpolate the square into the circle\n",
    "        self.play(FadeOut(square))  # fade out animation\n"
   ]
  },
  {
   "cell_type": "code",
   "execution_count": null,
   "id": "7e759731-e6ce-4a34-8933-d19cc0dd3223",
   "metadata": {},
   "outputs": [],
   "source": []
  }
 ],
 "metadata": {
  "kernelspec": {
   "display_name": "Python 3 (ipykernel)",
   "language": "python",
   "name": "python3"
  },
  "language_info": {
   "codemirror_mode": {
    "name": "ipython",
    "version": 3
   },
   "file_extension": ".py",
   "mimetype": "text/x-python",
   "name": "python",
   "nbconvert_exporter": "python",
   "pygments_lexer": "ipython3",
   "version": "3.8.13"
  }
 },
 "nbformat": 4,
 "nbformat_minor": 5
}
